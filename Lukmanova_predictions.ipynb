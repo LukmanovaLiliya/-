{
  "nbformat": 4,
  "nbformat_minor": 0,
  "metadata": {
    "colab": {
      "name": "Lukmanova_predictions",
      "provenance": [],
      "mount_file_id": "1bfOcRTQkGDm3hfrgU4qaIu72c7ussD14",
      "authorship_tag": "ABX9TyOdwkCRAiWUzzwV109+eeK2",
      "include_colab_link": true
    },
    "kernelspec": {
      "name": "python3",
      "display_name": "Python 3"
    },
    "language_info": {
      "name": "python"
    }
  },
  "cells": [
    {
      "cell_type": "markdown",
      "metadata": {
        "id": "view-in-github",
        "colab_type": "text"
      },
      "source": [
        "<a href=\"https://colab.research.google.com/github/LukmanovaLiliya/-/blob/main/Lukmanova_predictions.ipynb\" target=\"_parent\"><img src=\"https://colab.research.google.com/assets/colab-badge.svg\" alt=\"Open In Colab\"/></a>"
      ]
    },
    {
      "cell_type": "code",
      "metadata": {
        "colab": {
          "base_uri": "https://localhost:8080/"
        },
        "id": "QSog_cXDKKqK",
        "outputId": "7facd4ba-9bda-43fe-d3c7-d6436d9f521b"
      },
      "source": [
        "!pip install xgboost\n",
        "!pip install lightgbm\n",
        "!pip install catboost"
      ],
      "execution_count": 1,
      "outputs": [
        {
          "output_type": "stream",
          "text": [
            "Requirement already satisfied: xgboost in /usr/local/lib/python3.7/dist-packages (0.90)\n",
            "Requirement already satisfied: scipy in /usr/local/lib/python3.7/dist-packages (from xgboost) (1.4.1)\n",
            "Requirement already satisfied: numpy in /usr/local/lib/python3.7/dist-packages (from xgboost) (1.19.5)\n",
            "Requirement already satisfied: lightgbm in /usr/local/lib/python3.7/dist-packages (2.2.3)\n",
            "Requirement already satisfied: numpy in /usr/local/lib/python3.7/dist-packages (from lightgbm) (1.19.5)\n",
            "Requirement already satisfied: scipy in /usr/local/lib/python3.7/dist-packages (from lightgbm) (1.4.1)\n",
            "Requirement already satisfied: scikit-learn in /usr/local/lib/python3.7/dist-packages (from lightgbm) (0.22.2.post1)\n",
            "Requirement already satisfied: joblib>=0.11 in /usr/local/lib/python3.7/dist-packages (from scikit-learn->lightgbm) (1.0.1)\n",
            "Requirement already satisfied: catboost in /usr/local/lib/python3.7/dist-packages (0.26)\n",
            "Requirement already satisfied: pandas>=0.24.0 in /usr/local/lib/python3.7/dist-packages (from catboost) (1.1.5)\n",
            "Requirement already satisfied: six in /usr/local/lib/python3.7/dist-packages (from catboost) (1.15.0)\n",
            "Requirement already satisfied: graphviz in /usr/local/lib/python3.7/dist-packages (from catboost) (0.10.1)\n",
            "Requirement already satisfied: plotly in /usr/local/lib/python3.7/dist-packages (from catboost) (4.4.1)\n",
            "Requirement already satisfied: scipy in /usr/local/lib/python3.7/dist-packages (from catboost) (1.4.1)\n",
            "Requirement already satisfied: numpy>=1.16.0 in /usr/local/lib/python3.7/dist-packages (from catboost) (1.19.5)\n",
            "Requirement already satisfied: matplotlib in /usr/local/lib/python3.7/dist-packages (from catboost) (3.2.2)\n",
            "Requirement already satisfied: python-dateutil>=2.7.3 in /usr/local/lib/python3.7/dist-packages (from pandas>=0.24.0->catboost) (2.8.1)\n",
            "Requirement already satisfied: pytz>=2017.2 in /usr/local/lib/python3.7/dist-packages (from pandas>=0.24.0->catboost) (2018.9)\n",
            "Requirement already satisfied: retrying>=1.3.3 in /usr/local/lib/python3.7/dist-packages (from plotly->catboost) (1.3.3)\n",
            "Requirement already satisfied: pyparsing!=2.0.4,!=2.1.2,!=2.1.6,>=2.0.1 in /usr/local/lib/python3.7/dist-packages (from matplotlib->catboost) (2.4.7)\n",
            "Requirement already satisfied: cycler>=0.10 in /usr/local/lib/python3.7/dist-packages (from matplotlib->catboost) (0.10.0)\n",
            "Requirement already satisfied: kiwisolver>=1.0.1 in /usr/local/lib/python3.7/dist-packages (from matplotlib->catboost) (1.3.1)\n"
          ],
          "name": "stdout"
        }
      ]
    },
    {
      "cell_type": "code",
      "metadata": {
        "id": "saoUi577JCH6"
      },
      "source": [
        "import numpy as np \n",
        "import pandas as pd \n",
        "\n",
        "\n",
        "from sklearn.model_selection import train_test_split\n",
        "from sklearn.metrics import classification_report, f1_score, precision_score, recall_score\n",
        "import catboost as catb\n",
        "\n",
        "import seaborn as sns\n",
        "from matplotlib import pyplot as plt"
      ],
      "execution_count": 2,
      "outputs": []
    },
    {
      "cell_type": "code",
      "metadata": {
        "id": "nMpk76lyKasd",
        "colab": {
          "base_uri": "https://localhost:8080/"
        },
        "outputId": "943c660d-e97c-475c-9d32-cb7ad58a6d1e"
      },
      "source": [
        "TRAIN_DATASET_PATH = '/content/drive/MyDrive/Colab Notebooks/course_project_2/course_project_train.csv'\n",
        "TEST_DATASET_PATH = '/content/drive/MyDrive/Colab Notebooks/course_project_2/course_project_test.csv'\n",
        "SUBMIT_DATASET_PATH = '/content/drive/MyDrive/Colab Notebooks/course_project_2/Lukmanova_predictions.csv'\n",
        "\n",
        "df_train = pd.read_csv(TRAIN_DATASET_PATH)\n",
        "df_test = pd.read_csv(TEST_DATASET_PATH)\n",
        "submit = pd.read_csv(SUBMIT_DATASET_PATH)\n",
        "df_train.shape, df_test.shape"
      ],
      "execution_count": 3,
      "outputs": [
        {
          "output_type": "execute_result",
          "data": {
            "text/plain": [
              "((7500, 17), (2500, 16))"
            ]
          },
          "metadata": {
            "tags": []
          },
          "execution_count": 3
        }
      ]
    },
    {
      "cell_type": "code",
      "metadata": {
        "colab": {
          "base_uri": "https://localhost:8080/"
        },
        "id": "uwHocsBVR7LL",
        "outputId": "0a167ede-fb79-4889-9ad8-8817161d53e1"
      },
      "source": [
        "target_name = 'Credit Default'\n",
        "cat_feature_names = [col for col in df_train.drop(target_name, axis=1).columns \\\n",
        "                     if len(df_train[col].unique()) < 16] \n",
        "print(f'Категориальные признаки: {cat_feature_names}')\n",
        "num_feature_names = [col for col in df_train.drop(target_name, axis=1).columns \\\n",
        "                     if col not in cat_feature_names]\n",
        "print(f'Количественные признаки: {num_feature_names}')\n",
        "selected_features = cat_feature_names + num_feature_names\n",
        "print(f'Число признаков - {len(selected_features)}')"
      ],
      "execution_count": 4,
      "outputs": [
        {
          "output_type": "stream",
          "text": [
            "Категориальные признаки: ['Home Ownership', 'Years in current job', 'Tax Liens', 'Number of Credit Problems', 'Bankruptcies', 'Purpose', 'Term']\n",
            "Количественные признаки: ['Annual Income', 'Number of Open Accounts', 'Years of Credit History', 'Maximum Open Credit', 'Months since last delinquent', 'Current Loan Amount', 'Current Credit Balance', 'Monthly Debt', 'Credit Score']\n",
            "Число признаков - 16\n"
          ],
          "name": "stdout"
        }
      ]
    },
    {
      "cell_type": "code",
      "metadata": {
        "colab": {
          "base_uri": "https://localhost:8080/",
          "height": 358
        },
        "id": "Iwaq5yhIS0EJ",
        "outputId": "3669f4a1-1afe-49a0-b66c-864c26a46677"
      },
      "source": [
        "df_train = pd.read_csv(TRAIN_DATASET_PATH)\n",
        "df_train.tail()"
      ],
      "execution_count": 5,
      "outputs": [
        {
          "output_type": "execute_result",
          "data": {
            "text/html": [
              "<div>\n",
              "<style scoped>\n",
              "    .dataframe tbody tr th:only-of-type {\n",
              "        vertical-align: middle;\n",
              "    }\n",
              "\n",
              "    .dataframe tbody tr th {\n",
              "        vertical-align: top;\n",
              "    }\n",
              "\n",
              "    .dataframe thead th {\n",
              "        text-align: right;\n",
              "    }\n",
              "</style>\n",
              "<table border=\"1\" class=\"dataframe\">\n",
              "  <thead>\n",
              "    <tr style=\"text-align: right;\">\n",
              "      <th></th>\n",
              "      <th>Home Ownership</th>\n",
              "      <th>Annual Income</th>\n",
              "      <th>Years in current job</th>\n",
              "      <th>Tax Liens</th>\n",
              "      <th>Number of Open Accounts</th>\n",
              "      <th>Years of Credit History</th>\n",
              "      <th>Maximum Open Credit</th>\n",
              "      <th>Number of Credit Problems</th>\n",
              "      <th>Months since last delinquent</th>\n",
              "      <th>Bankruptcies</th>\n",
              "      <th>Purpose</th>\n",
              "      <th>Term</th>\n",
              "      <th>Current Loan Amount</th>\n",
              "      <th>Current Credit Balance</th>\n",
              "      <th>Monthly Debt</th>\n",
              "      <th>Credit Score</th>\n",
              "      <th>Credit Default</th>\n",
              "    </tr>\n",
              "  </thead>\n",
              "  <tbody>\n",
              "    <tr>\n",
              "      <th>7495</th>\n",
              "      <td>Rent</td>\n",
              "      <td>402192.0</td>\n",
              "      <td>&lt; 1 year</td>\n",
              "      <td>0.0</td>\n",
              "      <td>3.0</td>\n",
              "      <td>8.5</td>\n",
              "      <td>107866.0</td>\n",
              "      <td>0.0</td>\n",
              "      <td>NaN</td>\n",
              "      <td>0.0</td>\n",
              "      <td>other</td>\n",
              "      <td>Short Term</td>\n",
              "      <td>129360.0</td>\n",
              "      <td>73492.0</td>\n",
              "      <td>1900.0</td>\n",
              "      <td>697.0</td>\n",
              "      <td>0</td>\n",
              "    </tr>\n",
              "    <tr>\n",
              "      <th>7496</th>\n",
              "      <td>Home Mortgage</td>\n",
              "      <td>1533984.0</td>\n",
              "      <td>1 year</td>\n",
              "      <td>0.0</td>\n",
              "      <td>10.0</td>\n",
              "      <td>26.5</td>\n",
              "      <td>686312.0</td>\n",
              "      <td>0.0</td>\n",
              "      <td>43.0</td>\n",
              "      <td>0.0</td>\n",
              "      <td>debt consolidation</td>\n",
              "      <td>Long Term</td>\n",
              "      <td>444048.0</td>\n",
              "      <td>456399.0</td>\n",
              "      <td>12783.0</td>\n",
              "      <td>7410.0</td>\n",
              "      <td>1</td>\n",
              "    </tr>\n",
              "    <tr>\n",
              "      <th>7497</th>\n",
              "      <td>Rent</td>\n",
              "      <td>1878910.0</td>\n",
              "      <td>6 years</td>\n",
              "      <td>0.0</td>\n",
              "      <td>12.0</td>\n",
              "      <td>32.1</td>\n",
              "      <td>1778920.0</td>\n",
              "      <td>0.0</td>\n",
              "      <td>NaN</td>\n",
              "      <td>0.0</td>\n",
              "      <td>buy a car</td>\n",
              "      <td>Short Term</td>\n",
              "      <td>99999999.0</td>\n",
              "      <td>477812.0</td>\n",
              "      <td>12479.0</td>\n",
              "      <td>748.0</td>\n",
              "      <td>0</td>\n",
              "    </tr>\n",
              "    <tr>\n",
              "      <th>7498</th>\n",
              "      <td>Home Mortgage</td>\n",
              "      <td>NaN</td>\n",
              "      <td>NaN</td>\n",
              "      <td>0.0</td>\n",
              "      <td>21.0</td>\n",
              "      <td>26.5</td>\n",
              "      <td>1141250.0</td>\n",
              "      <td>0.0</td>\n",
              "      <td>NaN</td>\n",
              "      <td>0.0</td>\n",
              "      <td>debt consolidation</td>\n",
              "      <td>Short Term</td>\n",
              "      <td>615274.0</td>\n",
              "      <td>476064.0</td>\n",
              "      <td>37118.0</td>\n",
              "      <td>NaN</td>\n",
              "      <td>0</td>\n",
              "    </tr>\n",
              "    <tr>\n",
              "      <th>7499</th>\n",
              "      <td>Rent</td>\n",
              "      <td>NaN</td>\n",
              "      <td>4 years</td>\n",
              "      <td>0.0</td>\n",
              "      <td>8.0</td>\n",
              "      <td>9.4</td>\n",
              "      <td>480832.0</td>\n",
              "      <td>0.0</td>\n",
              "      <td>NaN</td>\n",
              "      <td>0.0</td>\n",
              "      <td>debt consolidation</td>\n",
              "      <td>Short Term</td>\n",
              "      <td>26928.0</td>\n",
              "      <td>288192.0</td>\n",
              "      <td>9061.0</td>\n",
              "      <td>NaN</td>\n",
              "      <td>0</td>\n",
              "    </tr>\n",
              "  </tbody>\n",
              "</table>\n",
              "</div>"
            ],
            "text/plain": [
              "     Home Ownership  Annual Income  ... Credit Score  Credit Default\n",
              "7495           Rent       402192.0  ...        697.0               0\n",
              "7496  Home Mortgage      1533984.0  ...       7410.0               1\n",
              "7497           Rent      1878910.0  ...        748.0               0\n",
              "7498  Home Mortgage            NaN  ...          NaN               0\n",
              "7499           Rent            NaN  ...          NaN               0\n",
              "\n",
              "[5 rows x 17 columns]"
            ]
          },
          "metadata": {
            "tags": []
          },
          "execution_count": 5
        }
      ]
    },
    {
      "cell_type": "code",
      "metadata": {
        "colab": {
          "base_uri": "https://localhost:8080/",
          "height": 296
        },
        "id": "F15g_IVgTdjY",
        "outputId": "ed141685-bd77-4695-ea5b-2d38838b066a"
      },
      "source": [
        "import seaborn as sns\n",
        "sns.countplot(x='Credit Default', data=df_train)"
      ],
      "execution_count": 6,
      "outputs": [
        {
          "output_type": "execute_result",
          "data": {
            "text/plain": [
              "<matplotlib.axes._subplots.AxesSubplot at 0x7f13400b40d0>"
            ]
          },
          "metadata": {
            "tags": []
          },
          "execution_count": 6
        },
        {
          "output_type": "display_data",
          "data": {
            "image/png": "[encoded data removed]",
            "text/plain": [
              "<Figure size 432x288 with 1 Axes>"
            ]
          },
          "metadata": {
            "tags": [],
            "needs_background": "light"
          }
        }
      ]
    },
    {
      "cell_type": "code",
      "metadata": {
        "colab": {
          "base_uri": "https://localhost:8080/"
        },
        "id": "f8bG79Ty9np3",
        "outputId": "2f4385c1-64c8-4f7e-e6c2-31ab564961cd"
      },
      "source": [
        "df_train.info()"
      ],
      "execution_count": 7,
      "outputs": [
        {
          "output_type": "stream",
          "text": [
            "<class 'pandas.core.frame.DataFrame'>\n",
            "RangeIndex: 7500 entries, 0 to 7499\n",
            "Data columns (total 17 columns):\n",
            " #   Column                        Non-Null Count  Dtype  \n",
            "---  ------                        --------------  -----  \n",
            " 0   Home Ownership                7500 non-null   object \n",
            " 1   Annual Income                 5943 non-null   float64\n",
            " 2   Years in current job          7129 non-null   object \n",
            " 3   Tax Liens                     7500 non-null   float64\n",
            " 4   Number of Open Accounts       7500 non-null   float64\n",
            " 5   Years of Credit History       7500 non-null   float64\n",
            " 6   Maximum Open Credit           7500 non-null   float64\n",
            " 7   Number of Credit Problems     7500 non-null   float64\n",
            " 8   Months since last delinquent  3419 non-null   float64\n",
            " 9   Bankruptcies                  7486 non-null   float64\n",
            " 10  Purpose                       7500 non-null   object \n",
            " 11  Term                          7500 non-null   object \n",
            " 12  Current Loan Amount           7500 non-null   float64\n",
            " 13  Current Credit Balance        7500 non-null   float64\n",
            " 14  Monthly Debt                  7500 non-null   float64\n",
            " 15  Credit Score                  5943 non-null   float64\n",
            " 16  Credit Default                7500 non-null   int64  \n",
            "dtypes: float64(12), int64(1), object(4)\n",
            "memory usage: 996.2+ KB\n"
          ],
          "name": "stdout"
        }
      ]
    },
    {
      "cell_type": "code",
      "metadata": {
        "id": "3CazEGJwAdpV"
      },
      "source": [
        "class Preprocessor:\n",
        "      #\"\"\"Подготовка исходных данных\"\"\"\n",
        "    def __init__(self):\n",
        "     # \"\"\"Параметры класса\"\"\"\n",
        "        self.medians = None\n",
        "        self.years_quantille = None\n",
        "        self.credit_quantille = None\n",
        "        self.loan_quantille = None\n",
        "\n",
        "    def fit(self, df):\n",
        "        #  \"\"\"Сохранение статистик\"\"\" \n",
        "        self.medians = df.median()\n",
        "        self.years_quantille = np.quantile(df['Years of Credit History'], q=0.95)\n",
        "        self.credit_quantille = np.quantile(df['Maximum Open Credit'], q=0.95)\n",
        "        self.loan_quantille = np.quantile(df['Current Loan Amount'], q=0.9)\n",
        "                                               \n",
        "    def transform(self, df):\n",
        "         # \"\"\"Трансформация данных\"\"\"\n",
        "        \n",
        "        df.loc[df['Home Ownership'] == 'Have Mortgage', 'Home Ownership'] = 'Home Mortgage'       \n",
        "        \n",
        "        df['Ownership'] = df['Home Ownership'].copy()\n",
        "        df = pd.get_dummies(df, columns=['Ownership'])\n",
        "        df.replace({'Home Ownership': {'Own Home': 2, \n",
        "                                       'Home Mortgage': 1, \n",
        "                                       'Rent': 0}\n",
        "                    }, inplace=True)\n",
        "        \n",
        "        df.replace({'Years in current job': \n",
        "                                            {'10+ years': 10,\n",
        "                                             '9 years': 9, \n",
        "                                             '8 years': 8,\n",
        "                                             '7 years': 7, \n",
        "                                             '6 years': 6,\n",
        "                                             '5 years': 5,\n",
        "                                             '4 years': 4,\n",
        "                                             '3 years': 3,\n",
        "                                             '2 years': 2,\n",
        "                                             '1 year': 1,\n",
        "                                             '< 1 year': 0,}}, inplace=True)\n",
        "        \n",
        "        self.years_in_cur_job_median = df['Years in current job'].median()\n",
        "        df['Years in current job'].fillna(self.years_in_cur_job_median, inplace=True)\n",
        "        \n",
        "        df.replace({'Purpose': \n",
        "                                            {'debt consolidation': 0,\n",
        "                                             'other': 1, \n",
        "                                             'home improvements': 1,\n",
        "                                             'take a trip': 1, \n",
        "                                             'buy a car': 1,\n",
        "                                             'small business': 2,\n",
        "                                             'business loan': 2,\n",
        "                                             'wedding': 1,\n",
        "                                             'educational expenses': 1,\n",
        "                                             'buy house': 1,\n",
        "                                             'medical bills': 1,\n",
        "                                             'moving': 1,\n",
        "                                             'major purchase': 1,\n",
        "                                             'vacation':1,\n",
        "                                             'renewable energy':1, }}, \n",
        "                   inplace=True)\n",
        "        \n",
        "        df['Purpose'].fillna(0, inplace=True)\n",
        "        \n",
        "        df.replace({'Term': {'Short Term': 0, \n",
        "                             'Long Term': 1}}, inplace=True)\n",
        "        \n",
        "        df['Months since last delinquent'].fillna(0, inplace=True)\n",
        "        \n",
        "        df['Annual Income'].fillna(1, inplace = True)\n",
        "        \n",
        "        df['Credit Score'].fillna(1, inplace=True)\n",
        "        df['Credit Score Outlier'] = 0\n",
        "        df.loc[df['Credit Score'] > 1000, 'Credit Score Outlier'] = 1\n",
        "        df.loc[df['Credit Score'] > 1000, 'Credit Score'] = df.loc[df['Credit Score'] > 1000, 'Credit Score'] / 10\n",
        "        \n",
        "        df['Bankruptcies'].fillna(0, inplace=True)\n",
        "        \n",
        "        df['Years of Credit History'].clip(lower=None, upper=self.years_quantille, inplace=True)\n",
        "        \n",
        "  \n",
        "        \n",
        "        return df\n"
      ],
      "execution_count": 8,
      "outputs": []
    },
    {
      "cell_type": "code",
      "metadata": {
        "id": "HPlfX9tACHXa"
      },
      "source": [
        "class FeatureGenerator:\n",
        "  # \"\"\"Генерация новых фич\"\"\"\n",
        "    def __init__(self):\n",
        "        self.median = None\n",
        "        self.ownership_rating = None\n",
        "        self.job_years_rating = None\n",
        "        self.credit_default_score_mode = None\n",
        "        self.median_loan_by_purpose = None\n",
        "\n",
        "    def fit(self, df):\n",
        "        self.medians = df.median()\n",
        "        self.ownership_rating = df.groupby(['Home Ownership'])['Credit Score'].agg('median').to_dict()\n",
        "        self.job_years_rating = df.groupby(['Years in current job'])['Credit Score'].agg('median').to_dict()\n",
        "        self.credit_default_score_mode = df.groupby(['Credit Default'])['Credit Score'].agg(pd.Series.mode)[1]\n",
        "        self.median_loan_by_purpose = df.groupby(['Purpose'])['Current Loan Amount'].agg('median').to_dict()\n",
        "\n",
        "    def transform(self, df):\n",
        "        df['Credit to income ratio'] = np.round((df['Annual Income']/12) / df['Monthly Debt'], 3)\n",
        "        df.loc[df['Credit to income ratio'] == np.inf, ['Credit to income ratio']] = df['Credit to income ratio'].median()\n",
        "        \n",
        "        df['Loan to income ratio'] = np.round((df['Annual Income']/12) / df['Current Loan Amount'], 3)\n",
        "        df.loc[df['Loan to income ratio'] == np.inf, ['Loan to income ratio']] = df['Loan to income ratio'].median()\n",
        "\n",
        "        df['Ownership_credit_rating'] = df['Home Ownership'].map(self.ownership_rating)\n",
        "\n",
        "        df['Years in job rating'] = df['Years in current job'].map(self.job_years_rating)\n",
        "\n",
        "        df['Credit Default Score Delta'] = abs(df['Credit Score'] - self.credit_default_score_mode)\n",
        "\n",
        "        df['Loan_by_term'] = df['Purpose'].map(self.median_loan_by_purpose)\n",
        "\n",
        "        return df"
      ],
      "execution_count": 9,
      "outputs": []
    },
    {
      "cell_type": "code",
      "metadata": {
        "id": "2zpzPfILB6Bd"
      },
      "source": [
        "preprocessor = Preprocessor()\n",
        "preprocessor.fit(df_train)\n",
        "df_train = preprocessor.transform(df_train)\n",
        "df_test = preprocessor.transform(df_test)\n",
        "\n",
        "\n",
        "feature_gen = FeatureGenerator()\n",
        "feature_gen.fit(df_train)\n",
        "df_train = feature_gen.transform(df_train)\n",
        "df_test = feature_gen.transform(df_test)"
      ],
      "execution_count": 10,
      "outputs": []
    },
    {
      "cell_type": "code",
      "metadata": {
        "colab": {
          "base_uri": "https://localhost:8080/"
        },
        "id": "TPBLltGCGuTx",
        "outputId": "ae4cd1dc-2412-48c9-86ff-c0c7154e3902"
      },
      "source": [
        "df_train.isna().sum().sum(), df_test.isna().sum().sum()"
      ],
      "execution_count": 11,
      "outputs": [
        {
          "output_type": "execute_result",
          "data": {
            "text/plain": [
              "(0, 0)"
            ]
          },
          "metadata": {
            "tags": []
          },
          "execution_count": 11
        }
      ]
    },
    {
      "cell_type": "markdown",
      "metadata": {
        "id": "05JwGLIQKdqB"
      },
      "source": [
        "Разобьем все данные на две части - на обучающую выборку X_train и на контрольную X_valid."
      ]
    },
    {
      "cell_type": "code",
      "metadata": {
        "colab": {
          "base_uri": "https://localhost:8080/"
        },
        "id": "B3RHO9oUDjH8",
        "outputId": "e1124210-009c-4c7e-ae69-bfd372aa2c06"
      },
      "source": [
        "X = df_train.drop(target_name, axis=1)\n",
        "y = df_train[target_name]\n",
        "X_train, X_valid, y_train, y_valid = train_test_split(X, y, shuffle=True, \n",
        "                                                      test_size=0.25, \n",
        "                                                      random_state=42)\n",
        "X_train.shape, X_valid.shape, y_train.shape, y_valid.shape"
      ],
      "execution_count": 12,
      "outputs": [
        {
          "output_type": "execute_result",
          "data": {
            "text/plain": [
              "((5625, 26), (1875, 26), (5625,), (1875,))"
            ]
          },
          "metadata": {
            "tags": []
          },
          "execution_count": 12
        }
      ]
    },
    {
      "cell_type": "markdown",
      "metadata": {
        "id": "rUIYdVxEKU5R"
      },
      "source": [
        "Обучим модель catboost "
      ]
    },
    {
      "cell_type": "code",
      "metadata": {
        "colab": {
          "base_uri": "https://localhost:8080/"
        },
        "id": "-avfghdXEr4X",
        "outputId": "6b4c143c-d7c6-460b-fa04-16cd97dee876"
      },
      "source": [
        "def get_classification_report(y_train_true, y_train_pred, y_test_true, y_test_pred):\n",
        "    print('TRAIN\\n\\n' + classification_report(y_train_true, y_train_pred))\n",
        "    print('TEST\\n\\n' + classification_report(y_test_true, y_test_pred))\n",
        "    \n",
        "baseline = catb.CatBoostClassifier(iterations=50, \n",
        "                                   nan_mode='Min', \n",
        "                                   silent=True, \n",
        "                                   random_state=42,\n",
        "                                   learning_rate=0.2,\n",
        "                                   max_depth=3)\n",
        "\n",
        "\n",
        "\n",
        "baseline.fit(X_train, y_train, eval_set=(X_valid, y_valid))\n",
        "\n",
        "y_train_pred = baseline.predict(X_train)\n",
        "y_valid_pred = baseline.predict(X_valid)\n",
        "\n",
        "get_classification_report(y_train, y_train_pred, y_valid, y_valid_pred)\n"
      ],
      "execution_count": 13,
      "outputs": [
        {
          "output_type": "stream",
          "text": [
            "TRAIN\n",
            "\n",
            "              precision    recall  f1-score   support\n",
            "\n",
            "           0       0.79      0.98      0.88      4074\n",
            "           1       0.86      0.31      0.46      1551\n",
            "\n",
            "    accuracy                           0.80      5625\n",
            "   macro avg       0.83      0.65      0.67      5625\n",
            "weighted avg       0.81      0.80      0.76      5625\n",
            "\n",
            "TEST\n",
            "\n",
            "              precision    recall  f1-score   support\n",
            "\n",
            "           0       0.76      0.97      0.86      1313\n",
            "           1       0.82      0.30      0.43       562\n",
            "\n",
            "    accuracy                           0.77      1875\n",
            "   macro avg       0.79      0.63      0.64      1875\n",
            "weighted avg       0.78      0.77      0.73      1875\n",
            "\n"
          ],
          "name": "stdout"
        }
      ]
    },
    {
      "cell_type": "markdown",
      "metadata": {
        "id": "NH1BxW6k3o4f"
      },
      "source": [
        "важность признаков"
      ]
    },
    {
      "cell_type": "code",
      "metadata": {
        "colab": {
          "base_uri": "https://localhost:8080/",
          "height": 850
        },
        "id": "w-WRbMwaFRT9",
        "outputId": "1e6a0bf4-ca9a-41db-ecb8-b0fd475c326a"
      },
      "source": [
        "feature_importances = pd.DataFrame(zip(X_train.columns, baseline.feature_importances_),\n",
        "                                   columns=['feature_name', 'importance'])\n",
        "\n",
        "feature_importances.sort_values(by='importance', ascending=False)"
      ],
      "execution_count": 14,
      "outputs": [
        {
          "output_type": "execute_result",
          "data": {
            "text/html": [
              "<div>\n",
              "<style scoped>\n",
              "    .dataframe tbody tr th:only-of-type {\n",
              "        vertical-align: middle;\n",
              "    }\n",
              "\n",
              "    .dataframe tbody tr th {\n",
              "        vertical-align: top;\n",
              "    }\n",
              "\n",
              "    .dataframe thead th {\n",
              "        text-align: right;\n",
              "    }\n",
              "</style>\n",
              "<table border=\"1\" class=\"dataframe\">\n",
              "  <thead>\n",
              "    <tr style=\"text-align: right;\">\n",
              "      <th></th>\n",
              "      <th>feature_name</th>\n",
              "      <th>importance</th>\n",
              "    </tr>\n",
              "  </thead>\n",
              "  <tbody>\n",
              "    <tr>\n",
              "      <th>19</th>\n",
              "      <td>Credit Score Outlier</td>\n",
              "      <td>36.517122</td>\n",
              "    </tr>\n",
              "    <tr>\n",
              "      <th>12</th>\n",
              "      <td>Current Loan Amount</td>\n",
              "      <td>17.906189</td>\n",
              "    </tr>\n",
              "    <tr>\n",
              "      <th>21</th>\n",
              "      <td>Loan to income ratio</td>\n",
              "      <td>15.866038</td>\n",
              "    </tr>\n",
              "    <tr>\n",
              "      <th>1</th>\n",
              "      <td>Annual Income</td>\n",
              "      <td>10.381710</td>\n",
              "    </tr>\n",
              "    <tr>\n",
              "      <th>15</th>\n",
              "      <td>Credit Score</td>\n",
              "      <td>5.811244</td>\n",
              "    </tr>\n",
              "    <tr>\n",
              "      <th>24</th>\n",
              "      <td>Credit Default Score Delta</td>\n",
              "      <td>3.948479</td>\n",
              "    </tr>\n",
              "    <tr>\n",
              "      <th>11</th>\n",
              "      <td>Term</td>\n",
              "      <td>2.410899</td>\n",
              "    </tr>\n",
              "    <tr>\n",
              "      <th>20</th>\n",
              "      <td>Credit to income ratio</td>\n",
              "      <td>1.705937</td>\n",
              "    </tr>\n",
              "    <tr>\n",
              "      <th>6</th>\n",
              "      <td>Maximum Open Credit</td>\n",
              "      <td>1.540591</td>\n",
              "    </tr>\n",
              "    <tr>\n",
              "      <th>4</th>\n",
              "      <td>Number of Open Accounts</td>\n",
              "      <td>0.774079</td>\n",
              "    </tr>\n",
              "    <tr>\n",
              "      <th>22</th>\n",
              "      <td>Ownership_credit_rating</td>\n",
              "      <td>0.375026</td>\n",
              "    </tr>\n",
              "    <tr>\n",
              "      <th>23</th>\n",
              "      <td>Years in job rating</td>\n",
              "      <td>0.343137</td>\n",
              "    </tr>\n",
              "    <tr>\n",
              "      <th>14</th>\n",
              "      <td>Monthly Debt</td>\n",
              "      <td>0.322293</td>\n",
              "    </tr>\n",
              "    <tr>\n",
              "      <th>10</th>\n",
              "      <td>Purpose</td>\n",
              "      <td>0.306270</td>\n",
              "    </tr>\n",
              "    <tr>\n",
              "      <th>7</th>\n",
              "      <td>Number of Credit Problems</td>\n",
              "      <td>0.268300</td>\n",
              "    </tr>\n",
              "    <tr>\n",
              "      <th>0</th>\n",
              "      <td>Home Ownership</td>\n",
              "      <td>0.266176</td>\n",
              "    </tr>\n",
              "    <tr>\n",
              "      <th>5</th>\n",
              "      <td>Years of Credit History</td>\n",
              "      <td>0.265066</td>\n",
              "    </tr>\n",
              "    <tr>\n",
              "      <th>2</th>\n",
              "      <td>Years in current job</td>\n",
              "      <td>0.247972</td>\n",
              "    </tr>\n",
              "    <tr>\n",
              "      <th>25</th>\n",
              "      <td>Loan_by_term</td>\n",
              "      <td>0.175829</td>\n",
              "    </tr>\n",
              "    <tr>\n",
              "      <th>13</th>\n",
              "      <td>Current Credit Balance</td>\n",
              "      <td>0.162064</td>\n",
              "    </tr>\n",
              "    <tr>\n",
              "      <th>8</th>\n",
              "      <td>Months since last delinquent</td>\n",
              "      <td>0.146648</td>\n",
              "    </tr>\n",
              "    <tr>\n",
              "      <th>18</th>\n",
              "      <td>Ownership_Rent</td>\n",
              "      <td>0.090679</td>\n",
              "    </tr>\n",
              "    <tr>\n",
              "      <th>3</th>\n",
              "      <td>Tax Liens</td>\n",
              "      <td>0.086398</td>\n",
              "    </tr>\n",
              "    <tr>\n",
              "      <th>16</th>\n",
              "      <td>Ownership_Home Mortgage</td>\n",
              "      <td>0.059924</td>\n",
              "    </tr>\n",
              "    <tr>\n",
              "      <th>9</th>\n",
              "      <td>Bankruptcies</td>\n",
              "      <td>0.021927</td>\n",
              "    </tr>\n",
              "    <tr>\n",
              "      <th>17</th>\n",
              "      <td>Ownership_Own Home</td>\n",
              "      <td>0.000000</td>\n",
              "    </tr>\n",
              "  </tbody>\n",
              "</table>\n",
              "</div>"
            ],
            "text/plain": [
              "                    feature_name  importance\n",
              "19          Credit Score Outlier   36.517122\n",
              "12           Current Loan Amount   17.906189\n",
              "21          Loan to income ratio   15.866038\n",
              "1                  Annual Income   10.381710\n",
              "15                  Credit Score    5.811244\n",
              "24    Credit Default Score Delta    3.948479\n",
              "11                          Term    2.410899\n",
              "20        Credit to income ratio    1.705937\n",
              "6            Maximum Open Credit    1.540591\n",
              "4        Number of Open Accounts    0.774079\n",
              "22       Ownership_credit_rating    0.375026\n",
              "23           Years in job rating    0.343137\n",
              "14                  Monthly Debt    0.322293\n",
              "10                       Purpose    0.306270\n",
              "7      Number of Credit Problems    0.268300\n",
              "0                 Home Ownership    0.266176\n",
              "5        Years of Credit History    0.265066\n",
              "2           Years in current job    0.247972\n",
              "25                  Loan_by_term    0.175829\n",
              "13        Current Credit Balance    0.162064\n",
              "8   Months since last delinquent    0.146648\n",
              "18                Ownership_Rent    0.090679\n",
              "3                      Tax Liens    0.086398\n",
              "16       Ownership_Home Mortgage    0.059924\n",
              "9                   Bankruptcies    0.021927\n",
              "17            Ownership_Own Home    0.000000"
            ]
          },
          "metadata": {
            "tags": []
          },
          "execution_count": 14
        }
      ]
    },
    {
      "cell_type": "markdown",
      "metadata": {
        "id": "4zEHD6rcJ-Cz"
      },
      "source": [
        "Значения на f1 небольшие (0.46 и 0.43). Подберем порог вероятности, чтобы улучшить значение f1."
      ]
    },
    {
      "cell_type": "code",
      "metadata": {
        "colab": {
          "base_uri": "https://localhost:8080/",
          "height": 350
        },
        "id": "XHfo9lnTH3Xd",
        "outputId": "e0f94e5f-0ca0-4872-fc5a-46ac60d257cc"
      },
      "source": [
        "def show_proba_calibration_plots(y_predicted_probs, y_true_labels):\n",
        "    preds_with_true_labels = np.array(list(zip(y_predicted_probs, y_true_labels)))\n",
        "\n",
        "    thresholds = []\n",
        "    precisions = []\n",
        "    recalls = []\n",
        "    f1_scores = []\n",
        "\n",
        "    for threshold in np.linspace(0.1, 0.9, 9):\n",
        "        thresholds.append(threshold)\n",
        "        precisions.append(precision_score(y_true_labels, list(map(int, y_predicted_probs > threshold))))\n",
        "        recalls.append(recall_score(y_true_labels, list(map(int, y_predicted_probs > threshold))))\n",
        "        f1_scores.append(f1_score(y_true_labels, list(map(int, y_predicted_probs > threshold))))\n",
        "         \n",
        "    figure = plt.figure(figsize = (10, 5))\n",
        "\n",
        "    plt1 = figure.add_subplot(111)\n",
        "    plt1.axhline(0.5, color=\"red\")\n",
        "    plt1.plot(thresholds, precisions, label='Precision', linewidth=4)\n",
        "    plt1.plot(thresholds, recalls, label='Recall', linewidth=4)\n",
        "    plt1.plot(thresholds, f1_scores, label='F1', linewidth=4)\n",
        "    plt1.set_ylabel('Scores')\n",
        "    plt1.set_xlabel('Probability threshold')\n",
        "    plt1.set_title('Probabilities threshold calibration')\n",
        "    plt1.legend(bbox_to_anchor=(0.25, 0.25));\n",
        "    \n",
        "y_valid_proba = baseline.predict_proba(X_valid)[:, 1]\n",
        "show_proba_calibration_plots(y_valid_proba, y_valid)\n"
      ],
      "execution_count": 15,
      "outputs": [
        {
          "output_type": "display_data",
          "data": {
            "image/png": "[encoded data removed]",
            "text/plain": [
              "<Figure size 720x360 with 1 Axes>"
            ]
          },
          "metadata": {
            "tags": [],
            "needs_background": "light"
          }
        }
      ]
    },
    {
      "cell_type": "code",
      "metadata": {
        "colab": {
          "base_uri": "https://localhost:8080/"
        },
        "id": "_FsO0-90HdaX",
        "outputId": "e6204617-4448-4d74-a6fc-d64d153112b7"
      },
      "source": [
        "y_valid_pred = np.array(y_valid_proba > 0.32, dtype=int)\n",
        "get_classification_report(y_train, y_train_pred, y_valid, y_valid_pred)"
      ],
      "execution_count": 20,
      "outputs": [
        {
          "output_type": "stream",
          "text": [
            "TRAIN\n",
            "\n",
            "              precision    recall  f1-score   support\n",
            "\n",
            "           0       0.79      0.98      0.88      4074\n",
            "           1       0.86      0.31      0.46      1551\n",
            "\n",
            "    accuracy                           0.80      5625\n",
            "   macro avg       0.83      0.65      0.67      5625\n",
            "weighted avg       0.81      0.80      0.76      5625\n",
            "\n",
            "TEST\n",
            "\n",
            "              precision    recall  f1-score   support\n",
            "\n",
            "           0       0.81      0.82      0.81      1313\n",
            "           1       0.57      0.55      0.56       562\n",
            "\n",
            "    accuracy                           0.74      1875\n",
            "   macro avg       0.69      0.68      0.69      1875\n",
            "weighted avg       0.74      0.74      0.74      1875\n",
            "\n"
          ],
          "name": "stdout"
        }
      ]
    },
    {
      "cell_type": "code",
      "metadata": {
        "id": "80hiCPXxJHBH"
      },
      "source": [
        "predictions = baseline.predict(df_test)\n",
        "predictions = predictions.astype('int32')"
      ],
      "execution_count": 17,
      "outputs": []
    },
    {
      "cell_type": "markdown",
      "metadata": {
        "id": "seq9cHBqJosR"
      },
      "source": [
        " Прогнозирование на тестовом датасете"
      ]
    },
    {
      "cell_type": "code",
      "metadata": {
        "colab": {
          "base_uri": "https://localhost:8080/",
          "height": 203
        },
        "id": "8HBUJF6vJQ3y",
        "outputId": "affa3429-0f4b-45e9-9278-7aeb8d0891eb"
      },
      "source": [
        "submit['Credit Default'] = predictions\n",
        "submit.head()"
      ],
      "execution_count": 18,
      "outputs": [
        {
          "output_type": "execute_result",
          "data": {
            "text/html": [
              "<div>\n",
              "<style scoped>\n",
              "    .dataframe tbody tr th:only-of-type {\n",
              "        vertical-align: middle;\n",
              "    }\n",
              "\n",
              "    .dataframe tbody tr th {\n",
              "        vertical-align: top;\n",
              "    }\n",
              "\n",
              "    .dataframe thead th {\n",
              "        text-align: right;\n",
              "    }\n",
              "</style>\n",
              "<table border=\"1\" class=\"dataframe\">\n",
              "  <thead>\n",
              "    <tr style=\"text-align: right;\">\n",
              "      <th></th>\n",
              "      <th>Id;Credit Default</th>\n",
              "      <th>Credit Default</th>\n",
              "    </tr>\n",
              "  </thead>\n",
              "  <tbody>\n",
              "    <tr>\n",
              "      <th>0</th>\n",
              "      <td>0;</td>\n",
              "      <td>0</td>\n",
              "    </tr>\n",
              "    <tr>\n",
              "      <th>1</th>\n",
              "      <td>1;</td>\n",
              "      <td>0</td>\n",
              "    </tr>\n",
              "    <tr>\n",
              "      <th>2</th>\n",
              "      <td>2;</td>\n",
              "      <td>1</td>\n",
              "    </tr>\n",
              "    <tr>\n",
              "      <th>3</th>\n",
              "      <td>3;</td>\n",
              "      <td>0</td>\n",
              "    </tr>\n",
              "    <tr>\n",
              "      <th>4</th>\n",
              "      <td>4;</td>\n",
              "      <td>0</td>\n",
              "    </tr>\n",
              "  </tbody>\n",
              "</table>\n",
              "</div>"
            ],
            "text/plain": [
              "  Id;Credit Default  Credit Default\n",
              "0                0;               0\n",
              "1                1;               0\n",
              "2                2;               1\n",
              "3                3;               0\n",
              "4                4;               0"
            ]
          },
          "metadata": {
            "tags": []
          },
          "execution_count": 18
        }
      ]
    },
    {
      "cell_type": "code",
      "metadata": {
        "id": "Md4PXV4eJWxn"
      },
      "source": [
        "submit.to_csv('Lukmanova_predictions.csv', index=False)"
      ],
      "execution_count": 19,
      "outputs": []
    }
  ]
}